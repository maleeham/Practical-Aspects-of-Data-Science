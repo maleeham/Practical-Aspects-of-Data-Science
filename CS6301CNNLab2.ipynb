{
  "nbformat": 4,
  "nbformat_minor": 0,
  "metadata": {
    "colab": {
      "name": "CS6301CNNLab2.ipynb",
      "provenance": [],
      "authorship_tag": "ABX9TyNB1bSLRul06kjHTdFa7GW9",
      "include_colab_link": true
    },
    "kernelspec": {
      "name": "python3",
      "display_name": "Python 3"
    }
  },
  "cells": [
    {
      "cell_type": "markdown",
      "metadata": {
        "id": "view-in-github",
        "colab_type": "text"
      },
      "source": [
        "<a href=\"https://colab.research.google.com/github/maleeham/Practical-Aspects-of-Data-Science/blob/master/CS6301CNNLab2.ipynb\" target=\"_parent\"><img src=\"https://colab.research.google.com/assets/colab-badge.svg\" alt=\"Open In Colab\"/></a>"
      ]
    },
    {
      "cell_type": "code",
      "metadata": {
        "id": "LNeekSTW1AEQ",
        "colab_type": "code",
        "colab": {
          "base_uri": "https://localhost:8080/",
          "height": 80
        },
        "outputId": "8c89c295-5f35-463f-8d80-7f92ee0b7a8e"
      },
      "source": [
        "from __future__ import print_function\n",
        "import keras\n",
        "from keras.datasets import cifar10\n",
        "from keras.preprocessing.image import ImageDataGenerator\n",
        "from keras.models import Sequential\n",
        "from keras.layers import Dense, Dropout, Activation, Flatten\n",
        "from keras.layers import Conv2D, MaxPooling2D\n",
        "import os"
      ],
      "execution_count": 1,
      "outputs": [
        {
          "output_type": "stream",
          "text": [
            "Using TensorFlow backend.\n"
          ],
          "name": "stderr"
        },
        {
          "output_type": "display_data",
          "data": {
            "text/html": [
              "<p style=\"color: red;\">\n",
              "The default version of TensorFlow in Colab will soon switch to TensorFlow 2.x.<br>\n",
              "We recommend you <a href=\"https://www.tensorflow.org/guide/migrate\" target=\"_blank\">upgrade</a> now \n",
              "or ensure your notebook will continue to use TensorFlow 1.x via the <code>%tensorflow_version 1.x</code> magic:\n",
              "<a href=\"https://colab.research.google.com/notebooks/tensorflow_version.ipynb\" target=\"_blank\">more info</a>.</p>\n"
            ],
            "text/plain": [
              "<IPython.core.display.HTML object>"
            ]
          },
          "metadata": {
            "tags": []
          }
        }
      ]
    },
    {
      "cell_type": "code",
      "metadata": {
        "id": "0MZBs8Ny1E0t",
        "colab_type": "code",
        "colab": {}
      },
      "source": [
        "batch_size = 32\n",
        "num_classes = 10\n",
        "epochs = 100\n",
        "data_augmentation = True\n",
        "num_predictions = 20\n",
        "save_dir = os.path.join(os.getcwd(), 'saved_models')\n",
        "model_name = 'keras_cifar10_trained_model.h5'"
      ],
      "execution_count": 0,
      "outputs": []
    },
    {
      "cell_type": "code",
      "metadata": {
        "id": "vwqS39l51G3F",
        "colab_type": "code",
        "colab": {
          "base_uri": "https://localhost:8080/",
          "height": 102
        },
        "outputId": "f7ab7a4d-fa40-44d2-ccae-8797a69f3921"
      },
      "source": [
        "# The data, split between train and test sets:\n",
        "(x_train, y_train), (x_test, y_test) = cifar10.load_data()\n",
        "print('x_train shape:', x_train.shape)\n",
        "print(x_train.shape[0], 'train samples')\n",
        "print(x_test.shape[0], 'test samples')"
      ],
      "execution_count": 3,
      "outputs": [
        {
          "output_type": "stream",
          "text": [
            "Downloading data from https://www.cs.toronto.edu/~kriz/cifar-10-python.tar.gz\n",
            "170500096/170498071 [==============================] - 11s 0us/step\n",
            "x_train shape: (50000, 32, 32, 3)\n",
            "50000 train samples\n",
            "10000 test samples\n"
          ],
          "name": "stdout"
        }
      ]
    },
    {
      "cell_type": "code",
      "metadata": {
        "id": "U87Iu-lI1I5-",
        "colab_type": "code",
        "colab": {}
      },
      "source": [
        "# Convert class vectors to binary class matrices.\n",
        "y_train = keras.utils.to_categorical(y_train, num_classes)\n",
        "y_test = keras.utils.to_categorical(y_test, num_classes)"
      ],
      "execution_count": 0,
      "outputs": []
    },
    {
      "cell_type": "code",
      "metadata": {
        "id": "WeqhX6_o1P8O",
        "colab_type": "code",
        "colab": {
          "base_uri": "https://localhost:8080/",
          "height": 283
        },
        "outputId": "6d897417-c6fb-4d1a-9f1a-606ba66d8dce"
      },
      "source": [
        "import matplotlib.pyplot as plt\n",
        "\n",
        "plt.imshow(x_train[20])\n"
      ],
      "execution_count": 8,
      "outputs": [
        {
          "output_type": "execute_result",
          "data": {
            "text/plain": [
              "<matplotlib.image.AxesImage at 0x7f7c941df978>"
            ]
          },
          "metadata": {
            "tags": []
          },
          "execution_count": 8
        },
        {
          "output_type": "display_data",
          "data": {
            "image/png": "[encoded data removed]",
            "text/plain": [
              "<Figure size 432x288 with 1 Axes>"
            ]
          },
          "metadata": {
            "tags": []
          }
        }
      ]
    },
    {
      "cell_type": "code",
      "metadata": {
        "id": "_Dau8WVe1WGc",
        "colab_type": "code",
        "colab": {
          "base_uri": "https://localhost:8080/",
          "height": 258
        },
        "outputId": "a0d0cb4f-8953-4db5-ab64-14d3ca20b32e"
      },
      "source": [
        "model = Sequential()\n",
        "model.add(Conv2D(32, (3, 3), padding='same',\n",
        "                 input_shape=x_train.shape[1:]))\n",
        "model.add(Activation('relu'))\n",
        "model.add(Conv2D(32, (3, 3)))\n",
        "model.add(Activation('relu'))\n",
        "model.add(MaxPooling2D(pool_size=(2, 2)))\n",
        "model.add(Dropout(0.25))"
      ],
      "execution_count": 9,
      "outputs": [
        {
          "output_type": "stream",
          "text": [
            "WARNING:tensorflow:From /usr/local/lib/python3.6/dist-packages/keras/backend/tensorflow_backend.py:66: The name tf.get_default_graph is deprecated. Please use tf.compat.v1.get_default_graph instead.\n",
            "\n",
            "WARNING:tensorflow:From /usr/local/lib/python3.6/dist-packages/keras/backend/tensorflow_backend.py:541: The name tf.placeholder is deprecated. Please use tf.compat.v1.placeholder instead.\n",
            "\n",
            "WARNING:tensorflow:From /usr/local/lib/python3.6/dist-packages/keras/backend/tensorflow_backend.py:4432: The name tf.random_uniform is deprecated. Please use tf.random.uniform instead.\n",
            "\n",
            "WARNING:tensorflow:From /usr/local/lib/python3.6/dist-packages/keras/backend/tensorflow_backend.py:4267: The name tf.nn.max_pool is deprecated. Please use tf.nn.max_pool2d instead.\n",
            "\n",
            "WARNING:tensorflow:From /usr/local/lib/python3.6/dist-packages/keras/backend/tensorflow_backend.py:148: The name tf.placeholder_with_default is deprecated. Please use tf.compat.v1.placeholder_with_default instead.\n",
            "\n",
            "WARNING:tensorflow:From /usr/local/lib/python3.6/dist-packages/keras/backend/tensorflow_backend.py:3733: calling dropout (from tensorflow.python.ops.nn_ops) with keep_prob is deprecated and will be removed in a future version.\n",
            "Instructions for updating:\n",
            "Please use `rate` instead of `keep_prob`. Rate should be set to `rate = 1 - keep_prob`.\n"
          ],
          "name": "stdout"
        }
      ]
    },
    {
      "cell_type": "code",
      "metadata": {
        "id": "KdVPu0EP1hX5",
        "colab_type": "code",
        "colab": {}
      },
      "source": [
        "model.add(Conv2D(64, (3, 3), padding='same'))\n",
        "model.add(Activation('relu'))\n",
        "model.add(Conv2D(64, (3, 3)))\n",
        "model.add(Activation('relu'))\n",
        "model.add(MaxPooling2D(pool_size=(2, 2)))\n",
        "model.add(Dropout(0.25))"
      ],
      "execution_count": 0,
      "outputs": []
    },
    {
      "cell_type": "code",
      "metadata": {
        "id": "nRzRMAVk1j3n",
        "colab_type": "code",
        "colab": {}
      },
      "source": [
        "model.add(Flatten())\n",
        "model.add(Dense(512))\n",
        "model.add(Activation('relu'))\n",
        "model.add(Dropout(0.5))\n",
        "model.add(Dense(num_classes))\n",
        "model.add(Activation('softmax'))"
      ],
      "execution_count": 0,
      "outputs": []
    },
    {
      "cell_type": "code",
      "metadata": {
        "id": "Cs54ZFmm1qtm",
        "colab_type": "code",
        "colab": {}
      },
      "source": [
        "# initiate RMSprop optimizer\n",
        "opt = keras.optimizers.RMSprop(lr=0.0001, decay=1e-6)"
      ],
      "execution_count": 0,
      "outputs": []
    },
    {
      "cell_type": "code",
      "metadata": {
        "id": "12oj10dS1s9K",
        "colab_type": "code",
        "colab": {
          "base_uri": "https://localhost:8080/",
          "height": 105
        },
        "outputId": "774c94e9-68c3-4f7c-bf06-4553ec5fc397"
      },
      "source": [
        "# Let's train the model using RMSprop\n",
        "model.compile(loss='categorical_crossentropy',\n",
        "              optimizer=opt,\n",
        "              metrics=['accuracy'])"
      ],
      "execution_count": 15,
      "outputs": [
        {
          "output_type": "stream",
          "text": [
            "WARNING:tensorflow:From /usr/local/lib/python3.6/dist-packages/keras/optimizers.py:793: The name tf.train.Optimizer is deprecated. Please use tf.compat.v1.train.Optimizer instead.\n",
            "\n",
            "WARNING:tensorflow:From /usr/local/lib/python3.6/dist-packages/keras/backend/tensorflow_backend.py:3576: The name tf.log is deprecated. Please use tf.math.log instead.\n",
            "\n"
          ],
          "name": "stdout"
        }
      ]
    },
    {
      "cell_type": "code",
      "metadata": {
        "id": "AOH0Te902gsL",
        "colab_type": "code",
        "colab": {}
      },
      "source": [
        "x_train = x_train.astype('float32')\n",
        "x_test = x_test.astype('float32')\n",
        "x_train /= 255\n",
        "x_test /= 255"
      ],
      "execution_count": 0,
      "outputs": []
    },
    {
      "cell_type": "code",
      "metadata": {
        "id": "NZlEe0nQ2iig",
        "colab_type": "code",
        "colab": {
          "base_uri": "https://localhost:8080/",
          "height": 1000
        },
        "outputId": "0b6e003d-2c90-4e36-a065-1bc400da32e8"
      },
      "source": [
        "\n",
        "model.fit(x_train, y_train,\n",
        "           batch_size=batch_size,\n",
        "           epochs=epochs,\n",
        "           validation_data=(x_test, y_test),\n",
        "           shuffle=True)"
      ],
      "execution_count": 0,
      "outputs": [
        {
          "output_type": "stream",
          "text": [
            "WARNING:tensorflow:From /usr/local/lib/python3.6/dist-packages/tensorflow_core/python/ops/math_grad.py:1424: where (from tensorflow.python.ops.array_ops) is deprecated and will be removed in a future version.\n",
            "Instructions for updating:\n",
            "Use tf.where in 2.0, which has the same broadcast rule as np.where\n",
            "WARNING:tensorflow:From /usr/local/lib/python3.6/dist-packages/keras/backend/tensorflow_backend.py:1033: The name tf.assign_add is deprecated. Please use tf.compat.v1.assign_add instead.\n",
            "\n",
            "WARNING:tensorflow:From /usr/local/lib/python3.6/dist-packages/keras/backend/tensorflow_backend.py:1020: The name tf.assign is deprecated. Please use tf.compat.v1.assign instead.\n",
            "\n",
            "WARNING:tensorflow:From /usr/local/lib/python3.6/dist-packages/keras/backend/tensorflow_backend.py:3005: The name tf.Session is deprecated. Please use tf.compat.v1.Session instead.\n",
            "\n",
            "Train on 50000 samples, validate on 10000 samples\n",
            "Epoch 1/100\n",
            "WARNING:tensorflow:From /usr/local/lib/python3.6/dist-packages/keras/backend/tensorflow_backend.py:190: The name tf.get_default_session is deprecated. Please use tf.compat.v1.get_default_session instead.\n",
            "\n",
            "WARNING:tensorflow:From /usr/local/lib/python3.6/dist-packages/keras/backend/tensorflow_backend.py:197: The name tf.ConfigProto is deprecated. Please use tf.compat.v1.ConfigProto instead.\n",
            "\n",
            "WARNING:tensorflow:From /usr/local/lib/python3.6/dist-packages/keras/backend/tensorflow_backend.py:207: The name tf.global_variables is deprecated. Please use tf.compat.v1.global_variables instead.\n",
            "\n",
            "WARNING:tensorflow:From /usr/local/lib/python3.6/dist-packages/keras/backend/tensorflow_backend.py:216: The name tf.is_variable_initialized is deprecated. Please use tf.compat.v1.is_variable_initialized instead.\n",
            "\n",
            "WARNING:tensorflow:From /usr/local/lib/python3.6/dist-packages/keras/backend/tensorflow_backend.py:223: The name tf.variables_initializer is deprecated. Please use tf.compat.v1.variables_initializer instead.\n",
            "\n",
            "50000/50000 [==============================] - 263s 5ms/step - loss: 1.7997 - acc: 0.3387 - val_loss: 1.5307 - val_acc: 0.4448\n",
            "Epoch 2/100\n",
            "50000/50000 [==============================] - 261s 5ms/step - loss: 1.4794 - acc: 0.4657 - val_loss: 1.3698 - val_acc: 0.5183\n",
            "Epoch 3/100\n",
            "50000/50000 [==============================] - 256s 5ms/step - loss: 1.3422 - acc: 0.5198 - val_loss: 1.2522 - val_acc: 0.5491\n",
            "Epoch 4/100\n",
            "50000/50000 [==============================] - 256s 5ms/step - loss: 1.2397 - acc: 0.5631 - val_loss: 1.1844 - val_acc: 0.5849\n",
            "Epoch 5/100\n",
            "50000/50000 [==============================] - 258s 5ms/step - loss: 1.1623 - acc: 0.5880 - val_loss: 1.1300 - val_acc: 0.6087\n",
            "Epoch 6/100\n",
            "50000/50000 [==============================] - 259s 5ms/step - loss: 1.0988 - acc: 0.6134 - val_loss: 1.0422 - val_acc: 0.6380\n",
            "Epoch 7/100\n",
            "50000/50000 [==============================] - 253s 5ms/step - loss: 1.0454 - acc: 0.6340 - val_loss: 1.0045 - val_acc: 0.6505\n",
            "Epoch 8/100\n",
            "50000/50000 [==============================] - 252s 5ms/step - loss: 1.0060 - acc: 0.6480 - val_loss: 0.9671 - val_acc: 0.6633\n",
            "Epoch 9/100\n",
            "50000/50000 [==============================] - 254s 5ms/step - loss: 0.9657 - acc: 0.6633 - val_loss: 0.8977 - val_acc: 0.6914\n",
            "Epoch 10/100\n",
            "50000/50000 [==============================] - 253s 5ms/step - loss: 0.9345 - acc: 0.6739 - val_loss: 0.9059 - val_acc: 0.6897\n",
            "Epoch 11/100\n",
            "50000/50000 [==============================] - 255s 5ms/step - loss: 0.9083 - acc: 0.6827 - val_loss: 0.8578 - val_acc: 0.7025\n",
            "Epoch 12/100\n",
            "50000/50000 [==============================] - 259s 5ms/step - loss: 0.8819 - acc: 0.6936 - val_loss: 0.8881 - val_acc: 0.6986\n",
            "Epoch 13/100\n",
            "50000/50000 [==============================] - 262s 5ms/step - loss: 0.8624 - acc: 0.7011 - val_loss: 0.8267 - val_acc: 0.7163\n",
            "Epoch 14/100\n",
            "50000/50000 [==============================] - 263s 5ms/step - loss: 0.8431 - acc: 0.7084 - val_loss: 0.7995 - val_acc: 0.7271\n",
            "Epoch 15/100\n",
            "50000/50000 [==============================] - 263s 5ms/step - loss: 0.8299 - acc: 0.7119 - val_loss: 0.8317 - val_acc: 0.7134\n",
            "Epoch 16/100\n",
            "50000/50000 [==============================] - 264s 5ms/step - loss: 0.8135 - acc: 0.7188 - val_loss: 0.7971 - val_acc: 0.7323\n",
            "Epoch 17/100\n",
            "50000/50000 [==============================] - 264s 5ms/step - loss: 0.8015 - acc: 0.7252 - val_loss: 0.7938 - val_acc: 0.7327\n",
            "Epoch 18/100\n",
            "50000/50000 [==============================] - 261s 5ms/step - loss: 0.7896 - acc: 0.7275 - val_loss: 0.8038 - val_acc: 0.7307\n",
            "Epoch 19/100\n",
            "50000/50000 [==============================] - 262s 5ms/step - loss: 0.7813 - acc: 0.7331 - val_loss: 0.7511 - val_acc: 0.7439\n",
            "Epoch 20/100\n",
            "50000/50000 [==============================] - 265s 5ms/step - loss: 0.7671 - acc: 0.7342 - val_loss: 0.7767 - val_acc: 0.7404\n",
            "Epoch 21/100\n",
            "50000/50000 [==============================] - 264s 5ms/step - loss: 0.7627 - acc: 0.7379 - val_loss: 0.7459 - val_acc: 0.7466\n",
            "Epoch 22/100\n",
            "50000/50000 [==============================] - 261s 5ms/step - loss: 0.7604 - acc: 0.7414 - val_loss: 0.7372 - val_acc: 0.7522\n",
            "Epoch 23/100\n",
            "50000/50000 [==============================] - 263s 5ms/step - loss: 0.7481 - acc: 0.7436 - val_loss: 0.7432 - val_acc: 0.7522\n",
            "Epoch 24/100\n",
            "50000/50000 [==============================] - 264s 5ms/step - loss: 0.7459 - acc: 0.7479 - val_loss: 0.7804 - val_acc: 0.7437\n",
            "Epoch 25/100\n",
            "13440/50000 [=======>......................] - ETA: 3:02 - loss: 0.7270 - acc: 0.7536"
          ],
          "name": "stdout"
        }
      ]
    },
    {
      "cell_type": "code",
      "metadata": {
        "id": "t5RFDibP2k3l",
        "colab_type": "code",
        "colab": {}
      },
      "source": [
        "# Score trained model.\n",
        "scores = model.evaluate(x_test, y_test, verbose=1)\n",
        "print('Test loss:', scores[0])\n",
        "print('Test accuracy:', scores[1])"
      ],
      "execution_count": 0,
      "outputs": []
    },
    {
      "cell_type": "code",
      "metadata": {
        "id": "39gHiLZk2r4B",
        "colab_type": "code",
        "colab": {}
      },
      "source": [
        ""
      ],
      "execution_count": 0,
      "outputs": []
    }
  ]
}